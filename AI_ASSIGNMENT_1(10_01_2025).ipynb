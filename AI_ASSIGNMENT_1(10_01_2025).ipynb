{
  "nbformat": 4,
  "nbformat_minor": 0,
  "metadata": {
    "colab": {
      "provenance": [],
      "authorship_tag": "ABX9TyO6h0v6b5ghmmWq8mOXU/4d",
      "include_colab_link": true
    },
    "kernelspec": {
      "name": "python3",
      "display_name": "Python 3"
    },
    "language_info": {
      "name": "python"
    }
  },
  "cells": [
    {
      "cell_type": "markdown",
      "metadata": {
        "id": "view-in-github",
        "colab_type": "text"
      },
      "source": [
        "<a href=\"https://colab.research.google.com/github/VikasMora/GENERATIVE_AI_2025/blob/main/AI_ASSIGNMENT_1(10_01_2025).ipynb\" target=\"_parent\"><img src=\"https://colab.research.google.com/assets/colab-badge.svg\" alt=\"Open In Colab\"/></a>"
      ]
    },
    {
      "cell_type": "code",
      "source": [
        "y_true = np.array([20,30,40,50,60])\n",
        "y_pred = np.array([20.5,30.3,40.2,50.6,60.7])\n",
        "MAE = 0\n",
        "for i in range(len(y_true)):\n",
        "    MAE += abs(y_true[i] - y_pred[i])\n",
        "MAE /= len(y_true)\n",
        "print(MAE)"
      ],
      "metadata": {
        "colab": {
          "base_uri": "https://localhost:8080/"
        },
        "id": "rRcX6gTCRMFC",
        "outputId": "7d546c20-c9b4-4638-aa6a-a9cb8a7a2c0b"
      },
      "execution_count": null,
      "outputs": [
        {
          "output_type": "stream",
          "name": "stdout",
          "text": [
            "0.4600000000000016\n"
          ]
        }
      ]
    },
    {
      "cell_type": "code",
      "source": [
        "y_true = np.array([20,30,40,50,60])\n",
        "y_pred = np.array([20.5,30.3,40.2,50.6,60.7])\n",
        "MSE = 0\n",
        "for i in range(len(y_true)):\n",
        "    MSE += (y_true[i] - y_pred[i])**2\n",
        "MSE /= len(y_true)\n",
        "print(MSE)"
      ],
      "metadata": {
        "colab": {
          "base_uri": "https://localhost:8080/"
        },
        "id": "Tx_HYANeRYTE",
        "outputId": "d6bc41a5-a393-4e75-b33f-ceff2ce608be"
      },
      "execution_count": null,
      "outputs": [
        {
          "output_type": "stream",
          "name": "stdout",
          "text": [
            "0.24600000000000147\n"
          ]
        }
      ]
    },
    {
      "cell_type": "code",
      "source": [
        "RMSE = np.sqrt(MSE)\n",
        "print(RMSE)"
      ],
      "metadata": {
        "colab": {
          "base_uri": "https://localhost:8080/"
        },
        "id": "ti5sjzo5Sdhh",
        "outputId": "76f311f7-ab8d-4a0d-f7bb-33091abb8e1b"
      },
      "execution_count": null,
      "outputs": [
        {
          "output_type": "stream",
          "name": "stdout",
          "text": [
            "0.49598387070549127\n"
          ]
        }
      ]
    },
    {
      "cell_type": "code",
      "source": [
        "import numpy as np\n",
        "from sklearn.metrics import mean_absolute_error, mean_squared_error\n",
        "y_true = np.array([20,30,40,50,60])\n",
        "y_pred = np.array([20.5,30.3,40.2,50.6,60.7])\n",
        "mae = mean_absolute_error(y_true, y_pred)\n",
        "mse = mean_squared_error(y_true, y_pred)\n",
        "rmse = np.sqrt(mse)\n",
        "print(mae)\n",
        "print(mse)\n",
        "print(rmse)"
      ],
      "metadata": {
        "colab": {
          "base_uri": "https://localhost:8080/"
        },
        "id": "czV6Xti8T8dX",
        "outputId": "38a7f86e-52f9-4fa3-941b-a3df25baa4ea"
      },
      "execution_count": null,
      "outputs": [
        {
          "output_type": "stream",
          "name": "stdout",
          "text": [
            "0.4600000000000016\n",
            "0.24600000000000147\n",
            "0.49598387070549127\n"
          ]
        }
      ]
    }
  ]
}