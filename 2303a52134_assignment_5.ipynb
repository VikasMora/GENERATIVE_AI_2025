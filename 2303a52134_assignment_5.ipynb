{
  "nbformat": 4,
  "nbformat_minor": 0,
  "metadata": {
    "colab": {
      "provenance": [],
      "include_colab_link": true
    },
    "kernelspec": {
      "name": "python3",
      "display_name": "Python 3"
    },
    "language_info": {
      "name": "python"
    }
  },
  "cells": [
    {
      "cell_type": "markdown",
      "metadata": {
        "id": "view-in-github",
        "colab_type": "text"
      },
      "source": [
        "<a href=\"https://colab.research.google.com/github/VikasMora/GENERATIVE_AI_2025/blob/main/2303a52134_assignment_5.ipynb\" target=\"_parent\"><img src=\"https://colab.research.google.com/assets/colab-badge.svg\" alt=\"Open In Colab\"/></a>"
      ]
    },
    {
      "cell_type": "code",
      "execution_count": null,
      "metadata": {
        "colab": {
          "base_uri": "https://localhost:8080/"
        },
        "id": "lSP8IhNxuiEE",
        "outputId": "144c9f79-6dfa-4efc-b3c6-0f0d8afa878f"
      },
      "outputs": [
        {
          "output_type": "stream",
          "name": "stdout",
          "text": [
            "Training MSE: 0.000000\n",
            "Testing MSE: 0.000001\n",
            "Enter x1 and x2: 0.6 0.4\n",
            "Predicted output: 0.360823\n"
          ]
        }
      ],
      "source": [
        "import numpy as np\n",
        "\n",
        "def sigmoid(x):\n",
        "    return 1 / (1 + np.exp(-x))\n",
        "\n",
        "def sigmoid_derivative(x):\n",
        "    return x * (1 - x)\n",
        "\n",
        "def train_ann(X, Y, hidden_neurons=3, learning_rate=0.1, epochs=10000):\n",
        "    np.random.seed(42)\n",
        "    input_neurons = X.shape[1]\n",
        "    output_neurons = 1\n",
        "\n",
        "    W1 = np.random.rand(input_neurons, hidden_neurons)\n",
        "    B1 = np.random.rand(1, hidden_neurons)\n",
        "    W2 = np.random.rand(hidden_neurons, output_neurons)\n",
        "    B2 = np.random.rand(1, output_neurons)\n",
        "\n",
        "    for _ in range(epochs):\n",
        "        hidden_input = np.dot(X, W1) + B1\n",
        "        hidden_output = sigmoid(hidden_input)\n",
        "        final_input = np.dot(hidden_output, W2) + B2\n",
        "        final_output = final_input\n",
        "        error = Y - final_output\n",
        "        d_output = error\n",
        "        d_hidden = d_output.dot(W2.T) * sigmoid_derivative(hidden_output)\n",
        "\n",
        "        W2 += learning_rate * hidden_output.T.dot(d_output)\n",
        "        B2 += learning_rate * np.sum(d_output, axis=0, keepdims=True)\n",
        "        W1 += learning_rate * X.T.dot(d_hidden)\n",
        "        B1 += learning_rate * np.sum(d_hidden, axis=0, keepdims=True)\n",
        "\n",
        "    return W1, B1, W2, B2\n",
        "\n",
        "def predict(X, W1, B1, W2, B2):\n",
        "    hidden_input = np.dot(X, W1) + B1\n",
        "    hidden_output = sigmoid(hidden_input)\n",
        "    final_input = np.dot(hidden_output, W2) + B2\n",
        "    return final_input\n",
        "\n",
        "def mse(Y_true, Y_pred):\n",
        "    return np.mean((Y_true - Y_pred) ** 2)\n",
        "\n",
        "X_train = np.array([[0.1, 0.2], [0.2, 0.3], [0.3, 0.4], [0.6, 0.7], [0.7, 0.8], [0.8, 0.9]])\n",
        "Y_train = np.array([[0.3432], [0.3490], [0.3548], [0.3720], [0.3776], [0.3832]])\n",
        "\n",
        "W1, B1, W2, B2 = train_ann(X_train, Y_train)\n",
        "\n",
        "X_test = np.array([[0.4, 0.5], [0.5, 0.6]])\n",
        "Y_test = np.array([[0.3606], [0.3663]])\n",
        "\n",
        "\n",
        "Y_train_pred = predict(X_train, W1, B1, W2, B2)\n",
        "Y_test_pred = predict(X_test, W1, B1, W2, B2)\n",
        "\n",
        "train_mse = mse(Y_train, Y_train_pred)\n",
        "test_mse = mse(Y_test, Y_test_pred)\n",
        "\n",
        "print(f\"Training MSE: {train_mse:.6f}\")\n",
        "print(f\"Testing MSE: {test_mse:.6f}\")\n",
        "\n",
        "x1, x2 = map(float, input(\"Enter x1 and x2: \").split())\n",
        "user_input = np.array([[x1, x2]])\n",
        "user_prediction = predict(user_input, W1, B1, W2, B2)\n",
        "print(f\"Predicted output: {user_prediction[0,0]:.6f}\")"
      ]
    },
    {
      "cell_type": "code",
      "source": [
        "import numpy as np\n",
        "\n",
        "def sigmoid(x):\n",
        "    return 1 / (1 + np.exp(-x))\n",
        "\n",
        "def sigmoid_derivative(x):\n",
        "    return x * (1 - x)\n",
        "\n",
        "def train_ann(X, Y, hidden_neurons=3, learning_rate=0.1, epochs=10000):\n",
        "    np.random.seed(42)\n",
        "    input_neurons = X.shape[1]\n",
        "    output_neurons = 1\n",
        "\n",
        "    W1 = np.random.rand(input_neurons, hidden_neurons)\n",
        "    B1 = np.random.rand(1, hidden_neurons)\n",
        "    W2 = np.random.rand(hidden_neurons, output_neurons)\n",
        "    B2 = np.random.rand(1, output_neurons)\n",
        "\n",
        "    for _ in range(epochs):\n",
        "        hidden_input = np.dot(X, W1) + B1\n",
        "        hidden_output = sigmoid(hidden_input)\n",
        "        final_input = np.dot(hidden_output, W2) + B2\n",
        "        final_output = final_input\n",
        "\n",
        "        error = Y - final_output\n",
        "\n",
        "\n",
        "        d_output = error\n",
        "        d_hidden = d_output.dot(W2.T) * sigmoid_derivative(hidden_output)\n",
        "\n",
        "        W2 += learning_rate * hidden_output.T.dot(d_output)\n",
        "        B2 += learning_rate * np.sum(d_output, axis=0, keepdims=True)\n",
        "        W1 += learning_rate * X.T.dot(d_hidden)\n",
        "        B1 += learning_rate * np.sum(d_hidden, axis=0, keepdims=True)\n",
        "\n",
        "    return W1, B1, W2, B2\n",
        "\n",
        "def predict(X, W1, B1, W2, B2):\n",
        "    hidden_input = np.dot(X, W1) + B1\n",
        "    hidden_output = sigmoid(hidden_input)\n",
        "    final_input = np.dot(hidden_output, W2) + B2\n",
        "    return final_input\n",
        "\n",
        "def mse(Y_true, Y_pred):\n",
        "    return np.mean((Y_true - Y_pred) ** 2)\n",
        "\n",
        "X_train = np.array([[0.2, 0.1], [0.3, 0.2], [0.4, 0.3], [0.7, 0.6], [0.8, 0.7], [0.9, 0.8]])\n",
        "Y_train = np.array([[0.3441], [0.3500], [0.3558], [0.3729], [0.3785], [0.3841]])\n",
        "\n",
        "W1, B1, W2, B2 = train_ann(X_train, Y_train)\n",
        "\n",
        "X_test = np.array([[0.5, 0.4], [0.6, 0.5]])\n",
        "Y_test = np.array([[0.3615], [0.3672]])\n",
        "\n",
        "Y_train_pred = predict(X_train, W1, B1, W2, B2)\n",
        "Y_test_pred = predict(X_test, W1, B1, W2, B2)\n",
        "\n",
        "train_mse = mse(Y_train, Y_train_pred)\n",
        "test_mse = mse(Y_test, Y_test_pred)\n",
        "\n",
        "print(f\"Training MSE: {train_mse:.6f}\")\n",
        "print(f\"Testing MSE: {test_mse:.6f}\")\n",
        "\n",
        "x1, x2 = map(float, input(\"Enter x1 and x2: \").split())\n",
        "user_input = np.array([[x1, x2]])\n",
        "user_prediction = predict(user_input, W1, B1, W2, B2)\n",
        "print(f\"Predicted output: {user_prediction[0,0]:.6f}\")"
      ],
      "metadata": {
        "colab": {
          "base_uri": "https://localhost:8080/"
        },
        "id": "jwGVOK4Vu5XS",
        "outputId": "f2503298-24b4-4baa-a16f-0c333e458467"
      },
      "execution_count": null,
      "outputs": [
        {
          "output_type": "stream",
          "name": "stdout",
          "text": [
            "Training MSE: 0.000000\n",
            "Testing MSE: 0.000001\n",
            "Enter x1 and x2: 0.5 0.6\n",
            "Predicted output: 0.368274\n"
          ]
        }
      ]
    },
    {
      "cell_type": "code",
      "source": [
        "import numpy as np\n",
        "\n",
        "def sigmoid(x):\n",
        "    return 1 / (1 + np.exp(-x))\n",
        "\n",
        "def sigmoid_derivative(x):\n",
        "    return x * (1 - x)\n",
        "\n",
        "def train_ann(X, Y, hidden_neurons=3, learning_rate=0.1, epochs=10000):\n",
        "    np.random.seed(42)\n",
        "    input_neurons = X.shape[1]\n",
        "    output_neurons = 1\n",
        "\n",
        "    W1 = np.random.rand(input_neurons, hidden_neurons)\n",
        "    B1 = np.random.rand(1, hidden_neurons)\n",
        "    W2 = np.random.rand(hidden_neurons, output_neurons)\n",
        "    B2 = np.random.rand(1, output_neurons)\n",
        "\n",
        "    for _ in range(epochs):\n",
        "        hidden_input = np.dot(X, W1) + B1\n",
        "        hidden_output = sigmoid(hidden_input)\n",
        "        final_input = np.dot(hidden_output, W2) + B2\n",
        "        final_output = final_input\n",
        "\n",
        "        error = Y - final_output\n",
        "\n",
        "        d_output = error\n",
        "        d_hidden = d_output.dot(W2.T) * sigmoid_derivative(hidden_output)\n",
        "\n",
        "        W2 += learning_rate * hidden_output.T.dot(d_output)\n",
        "        B2 += learning_rate * np.sum(d_output, axis=0, keepdims=True)\n",
        "        W1 += learning_rate * X.T.dot(d_hidden)\n",
        "        B1 += learning_rate * np.sum(d_hidden, axis=0, keepdims=True)\n",
        "\n",
        "    return W1, B1, W2, B2\n",
        "\n",
        "def predict(X, W1, B1, W2, B2):\n",
        "    hidden_input = np.dot(X, W1) + B1\n",
        "    hidden_output = sigmoid(hidden_input)\n",
        "    final_input = np.dot(hidden_output, W2) + B2\n",
        "    return final_input\n",
        "\n",
        "def mse(Y_true, Y_pred):\n",
        "    return np.mean((Y_true - Y_pred) ** 2)\n",
        "\n",
        "X_train = np.array([[1, 2], [2, 3], [5, 6], [6, 7], [7, 8], [8, 9]])\n",
        "Y_train = np.array([[0.4140], [0.4611], [0.5501], [0.5656], [0.5765], [0.5840]])\n",
        "\n",
        "W1, B1, W2, B2 = train_ann(X_train, Y_train)\n",
        "\n",
        "X_test = np.array([[3, 4], [4, 5]])\n",
        "Y_test = np.array([[0.4992], [0.5285]])\n",
        "\n",
        "Y_train_pred = predict(X_train, W1, B1, W2, B2)\n",
        "Y_test_pred = predict(X_test, W1, B1, W2, B2)\n",
        "\n",
        "train_mse = mse(Y_train, Y_train_pred)\n",
        "test_mse = mse(Y_test, Y_test_pred)\n",
        "\n",
        "print(f\"Training MSE: {train_mse:.6f}\")\n",
        "print(f\"Testing MSE: {test_mse:.6f}\")\n",
        "\n",
        "x1, x2 = map(float, input(\"Enter x1 and x2: \").split())\n",
        "user_input = np.array([[x1, x2]])\n",
        "user_prediction = predict(user_input, W1, B1, W2, B2)\n",
        "print(f\"Predicted output: {user_prediction[0,0]:.6f}\")"
      ],
      "metadata": {
        "colab": {
          "base_uri": "https://localhost:8080/"
        },
        "id": "NaI6PltvvBWK",
        "outputId": "9fb52518-1147-4ed6-cd9f-071c80025005"
      },
      "execution_count": null,
      "outputs": [
        {
          "output_type": "stream",
          "name": "stdout",
          "text": [
            "Training MSE: 0.000013\n",
            "Testing MSE: 0.000022\n",
            "Enter x1 and x2: 2.3 2.5\n",
            "Predicted output: 0.496113\n"
          ]
        }
      ]
    }
  ]
}